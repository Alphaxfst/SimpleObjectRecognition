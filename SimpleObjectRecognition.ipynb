{
  "nbformat": 4,
  "nbformat_minor": 0,
  "metadata": {
    "colab": {
      "name": "SimpleObjectRecognition.ipynb",
      "provenance": [],
      "collapsed_sections": [],
      "include_colab_link": true
    },
    "kernelspec": {
      "name": "python3",
      "display_name": "Python 3"
    },
    "language_info": {
      "name": "python"
    }
  },
  "cells": [
    {
      "cell_type": "markdown",
      "metadata": {
        "id": "view-in-github",
        "colab_type": "text"
      },
      "source": [
        "<a href=\"https://colab.research.google.com/github/Alphaxfst/SimpleObjectRecognition/blob/main/SimpleObjectRecognition.ipynb\" target=\"_parent\"><img src=\"https://colab.research.google.com/assets/colab-badge.svg\" alt=\"Open In Colab\"/></a>"
      ]
    },
    {
      "cell_type": "code",
      "metadata": {
        "id": "35I49KFdSghK"
      },
      "source": [
        "!pip install tensorflow==2.4.0\n",
        "!pip install keras==2.4.3 numpy==1.19.3 pillow==7.0.0 scipy==1.4.1 h5py==2.10.0 matplotlib==3.3.2 opencv-python keras-resnet==0.2.0\n",
        "!pip install imageai --upgrade"
      ],
      "execution_count": null,
      "outputs": []
    },
    {
      "cell_type": "code",
      "metadata": {
        "colab": {
          "base_uri": "https://localhost:8080/"
        },
        "id": "Q4stRa21Voa_",
        "outputId": "29d8ffef-85ba-4b02-9892-10f8c846da5c"
      },
      "source": [
        "from google.colab import drive\n",
        "drive.mount(\"/content/drive\")"
      ],
      "execution_count": null,
      "outputs": [
        {
          "output_type": "stream",
          "text": [
            "Mounted at /content/drive\n"
          ],
          "name": "stdout"
        }
      ]
    },
    {
      "cell_type": "code",
      "metadata": {
        "colab": {
          "base_uri": "https://localhost:8080/"
        },
        "id": "61GIAhTFSt1_",
        "outputId": "1cd82df9-085c-44a3-aa02-e2821607d40d"
      },
      "source": [
        "from imageai.Detection import ObjectDetection\n",
        "import os\n",
        "\n",
        "execution_path = os.getcwd()\n",
        "detector = ObjectDetection()\n",
        "detector.setModelTypeAsRetinaNet()\n",
        "detector.setModelPath( os.path.join(execution_path , \"/content/drive/MyDrive/resnet50_coco_best_v2.1.0.h5\"))\n",
        "detector.loadModel()"
      ],
      "execution_count": null,
      "outputs": [
        {
          "output_type": "stream",
          "text": [
            "WARNING:tensorflow:No training configuration found in the save file, so the model was *not* compiled. Compile it manually.\n"
          ],
          "name": "stdout"
        }
      ]
    },
    {
      "cell_type": "code",
      "metadata": {
        "colab": {
          "base_uri": "https://localhost:8080/"
        },
        "id": "ee5IrrrzYeSf",
        "outputId": "93a6787e-8f51-4b5d-c31c-059d8aa1f047"
      },
      "source": [
        "lanjut = True\n",
        "\n",
        "\n",
        "while lanjut:\n",
        "  print(\"=================================\")\n",
        "  print(\"     TR - Object Recognition     \")\n",
        "  print(\"=================================\")\n",
        "\n",
        "  inputFile = input(\"Masukkan nama input file\\t= \")\n",
        "  outputFile = input(\"Masukkan nama output file\\t= \")\n",
        "\n",
        "  #deteksi\n",
        "  detections = detector.detectObjectsFromImage(input_image=os.path.join(execution_path , \"/content/drive/MyDrive/TAS AI/\" +inputFile), output_image_path=os.path.join(execution_path , outputFile))\n",
        "\n",
        "  for eachObject in detections:\n",
        "      print(eachObject[\"name\"] , \" : \" , eachObject[\"percentage_probability\"])\n",
        "\n",
        "  menu = input(\"Ingin deteksi lagi (y/t) ? \")\n",
        "  \n",
        "  if menu == 'y':\n",
        "    lanjut = True\n",
        "  elif menu == 't':\n",
        "    lanjut = False\n",
        "  else: print(\"Ups! Pilihan anda tidak sesuai...\")"
      ],
      "execution_count": null,
      "outputs": [
        {
          "output_type": "stream",
          "text": [
            "=================================\n",
            "     TR - Object Recognition     \n",
            "=================================\n",
            "Masukkan nama input file\t= cow and horses.jpg\n",
            "Masukkan nama output file\t= cow and horses new.jpg\n",
            "cow  :  99.1502046585083\n",
            "horse  :  93.55389475822449\n",
            "horse  :  92.34764575958252\n",
            "horse  :  64.53158259391785\n",
            "horse  :  63.6285662651062\n",
            "horse  :  53.46628427505493\n",
            "Ingin deteksi lagi (y/t) ? t\n"
          ],
          "name": "stdout"
        }
      ]
    }
  ]
}